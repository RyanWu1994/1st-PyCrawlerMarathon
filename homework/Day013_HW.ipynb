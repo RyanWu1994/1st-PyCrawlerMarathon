{
 "cells": [
  {
   "cell_type": "markdown",
   "metadata": {},
   "source": [
    "# PTT 網路爬蟲實作練習\n",
    "\n",
    "\n",
    "* 能夠利用 Request + BeatifulSour 撰寫爬蟲，並存放到合適的資料結構\n"
   ]
  },
  {
   "cell_type": "markdown",
   "metadata": {},
   "source": [
    "## 作業目標\n",
    "\n",
    "根據範例 ，完成以下問題：\n",
    "\n",
    "* ① 印出最新文章的「作者」「標題」「時間」\n",
    "* ② 印出第一頁所有文章的「作者」「標題」「時間」\n"
   ]
  },
  {
   "cell_type": "markdown",
   "metadata": {},
   "source": [
    "### ① 印出最新文章的「作者」「標題」「時間」"
   ]
  },
  {
   "cell_type": "code",
   "execution_count": 10,
   "metadata": {
    "scrolled": true
   },
   "outputs": [
    {
     "name": "stdout",
     "output_type": "stream",
     "text": [
      "作者: HEHEHEHEHE\n",
      "標題: [花邊] 字母哥和Lopez賽前摔角\n",
      "時間: 12/14\n",
      "作者: s66449\n",
      "標題: [新聞] 詹皇回熱火被狂噓半場7失誤　末節創造20\n",
      "時間: 12/14\n",
      "作者: Rambo\n",
      "標題: [BOX ] Clippers 124:117 Timberwolves 數據\n",
      "時間: 12/14\n",
      "作者: brian199524\n",
      "標題: [情報] John Wall母親過世\n",
      "時間: 12/14\n",
      "作者: Rambo\n",
      "標題: [BOX ] Knicks 103:101 Kings 數據\n",
      "時間: 12/14\n",
      "作者: Ayanami5566\n",
      "標題: [討論] 現在哪隊的氣氛最好？\n",
      "時間: 12/14\n",
      "作者: TheOneisNEO\n",
      "標題: Re: [BOX ] Clippers 124:117 Timberwolves 數據\n",
      "時間: 12/14\n",
      "作者: humbler\n",
      "標題: [討論] 我哥與濕婆的大師過招\n",
      "時間: 12/14\n",
      "作者: youhow0418\n",
      "標題: [情報] PG：快艇與我待過的所有球隊都很不同，\n",
      "時間: 12/14\n",
      "作者: hhje\n",
      "標題: [出售] 2020/1/2 活塞@快艇 Staple center prem\n",
      "時間: 12/14\n",
      "作者: jk182325\n",
      "標題: [情報] 喬治談被噓：事情未按球迷的預期發展時，\n",
      "時間: 12/14\n",
      "作者: LinBaoYan\n",
      "標題: [新聞] 勇士早不在爭冠行列 柯爾：訓練營時就有預感\n",
      "時間: 12/14\n",
      "作者: NSYSUheng\n",
      "標題: [情報] LBJ：希望Butler投丟最後一球，因為我們\n",
      "時間: 12/14\n",
      "作者: pneumo\n",
      "標題: [花邊] 講到本季不開心的事 LBJ:看不到兒子比賽\n",
      "時間: 12/14\n",
      "作者: fukawa947\n",
      "標題: [新聞] 字母哥率公鹿豪取17連勝　距離隊史紀錄只\n",
      "時間: 12/14\n",
      "作者: Vedan\n",
      "標題: [公告] 板規v6.6\n",
      "時間:  5/24\n",
      "作者: Vedan\n",
      "標題: [公告] 樂透取消及未來不再開啟樂透\n",
      "時間:  6/24\n",
      "作者: qazwsx879345\n",
      "標題: [公告] 版主上任相關事項 \n",
      "時間: 10/25\n",
      "作者: JerroLi\n",
      "標題: [情報] SEASON Schedule 賽程 December 19–20\n",
      "時間: 11/29\n",
      "作者: dragon803\n",
      "標題: [公告]是否禁止basketball top 5文章投票開始 \n",
      "時間: 12/08\n"
     ]
    }
   ],
   "source": [
    "import requests\n",
    "from bs4 import BeautifulSoup\n",
    "\n",
    "url = 'https://www.ptt.cc/bbs/NBA/index.html'\n",
    "r = requests.get(url)\n",
    "\n",
    "soup = BeautifulSoup(r.text)\n",
    "\n",
    "for i in soup.find_all(\"div\",class_=\"r-ent\"):\n",
    "    print(\"作者:\",i.find(\"div\",class_=\"author\").text)\n",
    "    print(\"標題:\",i.find(\"a\").text)\n",
    "    print(\"時間:\",i.find(\"div\",class_=\"date\").text)\n"
   ]
  },
  {
   "cell_type": "markdown",
   "metadata": {},
   "source": [
    "### ② 印出第一頁所有文章的「作者」「標題」「時間」"
   ]
  },
  {
   "cell_type": "code",
   "execution_count": 11,
   "metadata": {
    "scrolled": true
   },
   "outputs": [
    {
     "name": "stdout",
     "output_type": "stream",
     "text": [
      "作者: Price\n",
      "標題: [轉錄]Lyotard 對於太陽板討論串的結論\n",
      "時間:  5/16\n",
      "作者: Price\n",
      "標題: [公告] 請停止一切關於本次活動的發言\n",
      "時間:  5/31\n",
      "作者: Frankaze\n",
      "標題: [轉錄]跟之前那篇比起來 我覺得這篇也應該轉過來\n",
      "時間:  6/08\n",
      "作者: Frankaze\n",
      "標題: [轉錄]再轉一篇好文來\n",
      "時間:  6/08\n",
      "作者: Price\n",
      "標題: [轉錄][情報] 夏洛特山貓系列\n",
      "時間:  6/10\n",
      "作者: Price\n",
      "標題: [轉錄]Re: [心得] 真是受不了糗爺....\n",
      "時間:  6/10\n",
      "作者: Price\n",
      "標題: [轉錄]總冠軍賽NO.2觀後感\n",
      "時間:  6/10\n",
      "作者: AmuroNamie\n",
      "標題: [心得] Rasheed Wallace\n",
      "時間:  6/11\n",
      "作者: toptree\n",
      "標題: 掌控球賽的男人\n",
      "時間:  6/12\n",
      "作者: skchang\n",
      "標題: [閒聊] 說說2004季後賽名場面回顧\n",
      "時間:  6/12\n",
      "作者: shineup\n",
      "標題: [心得] 其實說穿了 就是活塞的防守太可怕了\n",
      "時間:  6/12\n",
      "作者: cOvi\n",
      "標題: Re: [閒聊] 說說2004季後賽名場面回顧\n",
      "時間:  6/12\n",
      "作者: ykshih\n",
      "標題: Re: [閒聊] 說說2004季後賽名場面回顧\n",
      "時間:  6/12\n",
      "作者: Frankaze\n",
      "標題: Re: [閒聊] 說說2004季後賽名場面回顧\n",
      "時間:  6/12\n",
      "作者: Price\n",
      "標題: [轉錄]Re: 總冠軍賽NO.3觀後感\n",
      "時間:  6/14\n",
      "作者: Frankaze\n",
      "標題: [轉錄]Re: 總冠軍賽NO.3觀後感\n",
      "時間:  6/14\n",
      "作者: star1\n",
      "標題: Re: [轉錄]Re: 總冠軍賽NO.3觀後感\n",
      "時間:  6/14\n",
      "作者: coldspring\n",
      "標題: Re: [轉錄]Re: 總冠軍賽NO.3觀後感\n",
      "時間:  6/14\n",
      "作者: airbear\n",
      "標題: Re: Kobe is frustrated...\n",
      "時間:  6/14\n",
      "作者: pennykidd\n",
      "標題: Re: [轉錄]Re: 總冠軍賽NO.3觀後感\n",
      "時間:  6/14\n"
     ]
    }
   ],
   "source": [
    "import requests\n",
    "from bs4 import BeautifulSoup\n",
    "\n",
    "url = 'https://www.ptt.cc/bbs/NBA/index1.html'\n",
    "r = requests.get(url)\n",
    "\n",
    "soup = BeautifulSoup(r.text)\n",
    "\n",
    "for i in soup.find_all(\"div\",class_=\"r-ent\"):\n",
    "    print(\"作者:\",i.find(\"div\",class_=\"author\").text)\n",
    "    print(\"標題:\",i.find(\"a\").text)\n",
    "    print(\"時間:\",i.find(\"div\",class_=\"date\").text)\n"
   ]
  },
  {
   "cell_type": "markdown",
   "metadata": {},
   "source": [
    "### ③ 試著爬爬看其他版的文章"
   ]
  },
  {
   "cell_type": "code",
   "execution_count": 14,
   "metadata": {},
   "outputs": [
    {
     "name": "stdout",
     "output_type": "stream",
     "text": [
      "作者: shinyban\n",
      "標題: [食記] 東京銀座—鹿乃子｜銀座和菓子老店代表 傳承七十年日式滋味\n",
      "時間: 12/14\n",
      "作者: ctx705f\n",
      "標題: [食記] 高雄 漢來海港自助餐(漢神本館店)\n",
      "時間: 12/14\n",
      "作者: tiantian27\n",
      "標題: [食記] 台北 果汁媽粉條爸-沒預訂吃不到！草莓季\n",
      "時間: 12/14\n",
      "作者: terry910134\n",
      "標題: [食記] 宜蘭礁溪 小日常咖啡 美味戚風蛋糕&早午餐\n",
      "時間: 12/14\n",
      "作者: MarkFung\n",
      "標題: [食記] 基隆市中正區 牛膳坊\n",
      "時間: 12/14\n",
      "作者: Dilbert\n",
      "標題: [公告] Food板 板規 V3.91\n",
      "時間: 12/16\n",
      "作者: bluefish\n",
      "標題: [公告] 發文請在標題加上地區及提供地址電話。^^\n",
      "時間:  9/28\n",
      "作者: Dilbert\n",
      "標題: [公告] 文章被刪除者請洽精華區的資源回收桶\n",
      "時間: 10/01\n",
      "作者: Dilbert\n",
      "標題: [公告] 新增板規22：發文禁附延伸閱讀連結\n",
      "時間:  6/04\n"
     ]
    }
   ],
   "source": [
    "# 美食版 Food\n",
    "import requests\n",
    "from bs4 import BeautifulSoup\n",
    "\n",
    "url = 'https://www.ptt.cc/bbs/Food/index.html'\n",
    "r = requests.get(url)\n",
    "\n",
    "soup = BeautifulSoup(r.text)\n",
    "\n",
    "for i in soup.find_all(\"div\",class_=\"r-ent\"):\n",
    "    print(\"作者:\",i.find(\"div\",class_=\"author\").text)\n",
    "    print(\"標題:\",i.find(\"a\").text)\n",
    "    print(\"時間:\",i.find(\"div\",class_=\"date\").text)\n"
   ]
  },
  {
   "cell_type": "code",
   "execution_count": null,
   "metadata": {},
   "outputs": [],
   "source": []
  }
 ],
 "metadata": {
  "kernelspec": {
   "display_name": "Python 3",
   "language": "python",
   "name": "python3"
  },
  "language_info": {
   "codemirror_mode": {
    "name": "ipython",
    "version": 3
   },
   "file_extension": ".py",
   "mimetype": "text/x-python",
   "name": "python",
   "nbconvert_exporter": "python",
   "pygments_lexer": "ipython3",
   "version": "3.6.9"
  }
 },
 "nbformat": 4,
 "nbformat_minor": 2
}
