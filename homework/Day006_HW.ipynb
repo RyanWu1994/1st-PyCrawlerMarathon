{
 "cells": [
  {
   "cell_type": "markdown",
   "metadata": {},
   "source": [
    "# API 資料串接 - 以 知乎 API 實作範例\n",
    "\n",
    "\n",
    "\n",
    "* 了解知乎 API 使用方式與回傳內容\n",
    "* 撰寫程式存取 API 且添加標頭\n",
    "\n",
    "\n"
   ]
  },
  {
   "cell_type": "markdown",
   "metadata": {},
   "source": [
    "## 作業目標\n",
    "\n",
    "* 根據範例提供的 API ，完成以下問題：\n",
    "\n",
    "    1. 取出知乎問題發問時間\n",
    "    2. 取出第一筆與最後一筆回答的時間\n"
   ]
  },
  {
   "cell_type": "markdown",
   "metadata": {},
   "source": [
    "### 1. 取出知乎問題發問時間"
   ]
  },
  {
   "cell_type": "code",
   "execution_count": 33,
   "metadata": {},
   "outputs": [
    {
     "name": "stdout",
     "output_type": "stream",
     "text": [
      "2017-02-06 14:10:29\n"
     ]
    }
   ],
   "source": [
    "# 1. 取出知乎問題發問時間\n",
    "\n",
    "import requests\n",
    "import json\n",
    "from datetime import datetime\n",
    "\n",
    "headers = {'user-agent': 'my-app/0.0.1'}\n",
    "res = requests.get('https://www.zhihu.com/api/v4/questions/55493026/answers',headers=headers)\n",
    "rejs = json.loads(res.text)\n",
    "create_time = rejs['data'][0]['question']['created']\n",
    "\n",
    "dateArray = datetime.utcfromtimestamp(create_time)\n",
    "otherStyleTime = dateArray.strftime(\"%Y-%m-%d %H:%M:%S\")\n",
    "print(otherStyleTime)"
   ]
  },
  {
   "cell_type": "markdown",
   "metadata": {},
   "source": [
    "### 2. 取出第一筆與最後一筆回答的時間"
   ]
  },
  {
   "cell_type": "code",
   "execution_count": 34,
   "metadata": {},
   "outputs": [
    {
     "name": "stdout",
     "output_type": "stream",
     "text": [
      "第一筆回文時間: 2019-05-14 09:00:12\n",
      "最後一筆回文時間: 2019-10-29 03:07:06\n"
     ]
    }
   ],
   "source": [
    "# 2. 取出第一筆與最後一筆回答的時間\n",
    "\n",
    "import requests\n",
    "import json\n",
    "from datetime import datetime\n",
    "\n",
    "headers = {'user-agent': 'my-app/0.0.1'}\n",
    "res = requests.get('https://www.zhihu.com/api/v4/questions/55493026/answers',headers=headers)\n",
    "rejs = json.loads(res.text)\n",
    "first_time = rejs['data'][0]['created_time']\n",
    "last_time = rejs['data'][-1]['created_time']\n",
    "\n",
    "firstdateArray = datetime.utcfromtimestamp(first_time)\n",
    "FirstTime = firstdateArray.strftime(\"%Y-%m-%d %H:%M:%S\")\n",
    "\n",
    "lastdateArray = datetime.utcfromtimestamp(last_time)\n",
    "LastTime = lastdateArray.strftime(\"%Y-%m-%d %H:%M:%S\")\n",
    "\n",
    "print('第一筆回文時間:',FirstTime)\n",
    "print('最後一筆回文時間:',LastTime)"
   ]
  },
  {
   "cell_type": "code",
   "execution_count": null,
   "metadata": {},
   "outputs": [],
   "source": []
  }
 ],
 "metadata": {
  "kernelspec": {
   "display_name": "Python 3",
   "language": "python",
   "name": "python3"
  },
  "language_info": {
   "codemirror_mode": {
    "name": "ipython",
    "version": 3
   },
   "file_extension": ".py",
   "mimetype": "text/x-python",
   "name": "python",
   "nbconvert_exporter": "python",
   "pygments_lexer": "ipython3",
   "version": "3.6.9"
  }
 },
 "nbformat": 4,
 "nbformat_minor": 2
}
