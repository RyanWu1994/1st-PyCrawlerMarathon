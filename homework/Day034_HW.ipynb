{
 "cells": [
  {
   "cell_type": "markdown",
   "metadata": {
    "colab_type": "text",
    "id": "I8CoX4R7VoCd"
   },
   "source": [
    "# 反爬：代理伺服器/IP\n",
    "\n",
    "* 了解「IP 黑/白名單」的反爬蟲機制\n",
    "* 「IP 黑/白名單」反爬蟲的因應策略"
   ]
  },
  {
   "cell_type": "markdown",
   "metadata": {
    "colab_type": "text",
    "id": "n-3DZ_r5VoCe"
   },
   "source": [
    "## 作業目標\n",
    "\n",
    "* 目前程式中的 proxy_ips 是手動輸入的，請根據 https://free-proxy-list.net/ 寫一個可自動化抓取可用 Proxy 的 proxy_ips。\n",
    "\n",
    "\n"
   ]
  },
  {
   "cell_type": "code",
   "execution_count": 1,
   "metadata": {},
   "outputs": [],
   "source": [
    "import requests\n",
    "from bs4 import BeautifulSoup\n",
    "import random"
   ]
  },
  {
   "cell_type": "code",
   "execution_count": 2,
   "metadata": {
    "colab": {},
    "colab_type": "code",
    "id": "iny-9heBVoCf"
   },
   "outputs": [],
   "source": [
    "def Proxy_ips():\n",
    "    proxy_ips = []\n",
    "    url = \"https://free-proxy-list.net/\"\n",
    "    res = requests.get(url)\n",
    "    soup = BeautifulSoup(res.text,\"html.parser\")\n",
    "    tbody = soup.find_all(\"tbody\")[0]\n",
    "\n",
    "    for i in tbody.find_all(\"tr\"):\n",
    "        ip = i.find(\"td\").text\n",
    "        port = i.find_all(\"td\")[1].text\n",
    "        result = str(ip) + \":\" + str(port)\n",
    "        proxy_ips.append(result)\n",
    "    return proxy_ips\n",
    "\n",
    "proxy_ips = Proxy_ips()"
   ]
  },
  {
   "cell_type": "code",
   "execution_count": 3,
   "metadata": {
    "colab": {},
    "colab_type": "code",
    "id": "75dIsHjiVoCi",
    "scrolled": true
   },
   "outputs": [
    {
     "name": "stdout",
     "output_type": "stream",
     "text": [
      "Use 187.87.204.210:45597\n",
      "Your IP address: 187.87.204.210\n",
      "Use 187.87.204.210:45597\n",
      "Your IP address: 187.87.204.210\n",
      "Use 75.151.213.85:8080\n",
      "Fail\n",
      "Use 36.37.160.124:53919\n",
      "Fail\n",
      "Use 150.95.131.174:3128\n",
      "Your IP address: 150.95.131.174\n",
      "Use 89.22.17.62:61616\n",
      "Fail\n",
      "Use 74.113.169.129:47208\n",
      "Fail\n",
      "Use 80.240.115.254:36539\n",
      "Fail\n",
      "Use 181.40.84.38:49674\n",
      "Your IP address: 181.40.84.38\n",
      "Use 209.250.246.221:3128\n",
      "Fail\n",
      "Use 103.141.123.6:41674\n",
      "Your IP address: 103.141.123.6\n",
      "Use 119.42.71.198:8080\n",
      "Fail\n",
      "Use 85.187.247.58:53281\n",
      "Fail\n",
      "Use 1.20.101.46:54381\n",
      "Fail\n",
      "Use 157.119.118.122:45653\n",
      "Fail\n",
      "Use 84.53.247.204:53281\n",
      "Fail\n",
      "Use 190.5.225.178:53570\n",
      "Fail\n",
      "Use 182.253.175.125:8080\n",
      "Your IP address: 182.253.175.125\n",
      "Use 185.108.141.74:8080\n",
      "Your IP address: 185.108.141.49\n",
      "Use 186.159.3.49:41589\n",
      "Fail\n",
      "Use 202.138.236.35:31173\n",
      "Fail\n",
      "Use 94.158.165.19:45915\n",
      "Fail\n",
      "Use 85.187.247.58:53281\n",
      "Fail\n",
      "Use 186.248.146.170:42129\n",
      "Your IP address: 186.248.146.170\n",
      "Use 45.115.173.205:3128\n",
      "Your IP address: 45.115.173.186\n",
      "Use 200.89.178.209:8080\n",
      "Fail\n",
      "Use 125.209.116.234:39301\n",
      "Fail\n",
      "Use 45.115.63.78:55443\n",
      "Your IP address: 45.115.63.78\n",
      "Use 84.214.150.146:8080\n",
      "Fail\n",
      "Use 182.23.54.146:48674\n",
      "Your IP address: 182.23.54.146\n"
     ]
    }
   ],
   "source": [
    "for i in range(30):\n",
    "    ip = random.choice(proxy_ips)\n",
    "    print('Use', ip)\n",
    "    try:\n",
    "        resp = requests.get('http://ip.filefab.com/index.php',\n",
    "                        proxies={'http': ip, 'https': ip}, timeout=10)\n",
    "        soup = BeautifulSoup(resp.text, 'html.parser')\n",
    "        print(soup.find('h1', id='ipd').text.strip())\n",
    "    except:\n",
    "        print('Fail')"
   ]
  },
  {
   "cell_type": "code",
   "execution_count": null,
   "metadata": {},
   "outputs": [],
   "source": []
  }
 ],
 "metadata": {
  "colab": {
   "name": "homework.ipynb",
   "provenance": []
  },
  "kernelspec": {
   "display_name": "Python 3",
   "language": "python",
   "name": "python3"
  },
  "language_info": {
   "codemirror_mode": {
    "name": "ipython",
    "version": 3
   },
   "file_extension": ".py",
   "mimetype": "text/x-python",
   "name": "python",
   "nbconvert_exporter": "python",
   "pygments_lexer": "ipython3",
   "version": "3.6.9"
  }
 },
 "nbformat": 4,
 "nbformat_minor": 1
}
